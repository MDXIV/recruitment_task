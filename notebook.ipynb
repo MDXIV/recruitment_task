{
 "cells": [
  {
   "cell_type": "code",
   "execution_count": null,
   "metadata": {},
   "outputs": [],
   "source": [
    "import os\n",
    "import yaml\n",
    "import requests\n",
    "\n",
    "with open('config.yaml', 'r') as file:\n",
    "    yaml_settings = yaml.safe_load(file)\n",
    "    os.environ['OPENAI_API_KEY'] = yaml_settings['openai_key']\n",
    "\n",
    "web_data = requests.get(f'https://cdn.oxido.pl/hr/Zadanie%20dla%20JJunior%20AI%20Developera%20-%20tresc%20artykulu.txt')"
   ]
  },
  {
   "cell_type": "code",
   "execution_count": 46,
   "metadata": {},
   "outputs": [],
   "source": [
    "from openai import OpenAI\n",
    "\n",
    "conversation_history = []\n",
    "\n",
    "text = web_data.content.decode('utf-8', 'ignore')\n",
    "\n",
    "client = OpenAI(api_key = os.environ['OPENAI_API_KEY'])\n",
    "\n",
    "prompt = f\"Do podanego tekstu napisz używając kodu HTML stronę www, strona nie może mieć kodu CSS oraz JavaScript. Umieść tag <img> z atrybutem  src=\\\"image_placeholder.jpg\\\" w najbardziej odpowiednich miejscach, dodaj do nich atrybut alt z dokładnym tekstem, który możemy użyć do wygenerowania grafiki. Zwrócony kod powinien zawierać wyłącznie zawartość do wstawienia pomiędzy tagami <body> i </body>. Opowiedz powinna zawierać tylko czysty kod. Oto tekst: {text}\"\n",
    "conversation_history.append({\"role\": \"user\", \"content\": prompt})\n",
    "response = client.chat.completions.create(\n",
    "    messages=conversation_history,\n",
    "    model=\"gpt-4o-mini\",\n",
    "    seed=52,\n",
    "    temperature=0.7\n",
    ")\n",
    "conversation_history.append({\"role\": \"assistant\", \"content\": response.choices[0].message.content})\n",
    "\n",
    "f = open(\"artykul.html\", \"w\")\n",
    "f.write(response.choices[0].message.content[8:-4])\n",
    "f.close()"
   ]
  },
  {
   "cell_type": "code",
   "execution_count": null,
   "metadata": {},
   "outputs": [],
   "source": [
    "prompt = f\"Napisz najbardziej odpowiedni szablon dla wcześniej napisanego kodu. Możesz korzystać z CSS, stylów, JavaScript oraz zewnętrznych bibliotek. Strona powinna wyglądać na nowocześnie. Sekcja body nie może zawierać żadnej treści, powinna być całkowicie pusta. Opowiedz powinna zawierać tylko sam kod bez żadnych komentarzy.\"\n",
    "conversation_history.append({\"role\": \"user\", \"content\": prompt})\n",
    "\n",
    "response = client.chat.completions.create(\n",
    "    messages=conversation_history,\n",
    "    model=\"gpt-4o-mini\",\n",
    "    seed=52,\n",
    "    temperature=0.90\n",
    ")\n",
    "conversation_history.append({\"role\": \"assistant\", \"content\": response.choices[0].message.content})\n",
    "\n",
    "f = open(\"szablon.html\", \"w\")\n",
    "f.write(response.choices[0].message.content[8:-4])\n",
    "f.close()"
   ]
  },
  {
   "cell_type": "code",
   "execution_count": 77,
   "metadata": {},
   "outputs": [],
   "source": [
    "prompt = f\"Teraz połącz pierwszy i ostatni napisany kod. Bez żadnych komentarzy tylko sam kod.\"\n",
    "conversation_history.append({\"role\": \"user\", \"content\": prompt})\n",
    "\n",
    "response = client.chat.completions.create(\n",
    "    messages=conversation_history,\n",
    "    model=\"gpt-4o-mini\",\n",
    "    seed=52,\n",
    "    temperature=0.7\n",
    ")\n",
    "conversation_history.append({\"role\": \"assistant\", \"content\": response.choices[0].message.content})\n",
    "\n",
    "f = open(\"podglad.html\", \"w\")\n",
    "f.write(response.choices[0].message.content[8:-4])\n",
    "f.close()"
   ]
  }
 ],
 "metadata": {
  "kernelspec": {
   "display_name": "recruitment_task",
   "language": "python",
   "name": "python3"
  },
  "language_info": {
   "codemirror_mode": {
    "name": "ipython",
    "version": 3
   },
   "file_extension": ".py",
   "mimetype": "text/x-python",
   "name": "python",
   "nbconvert_exporter": "python",
   "pygments_lexer": "ipython3",
   "version": "3.12.0"
  }
 },
 "nbformat": 4,
 "nbformat_minor": 2
}
